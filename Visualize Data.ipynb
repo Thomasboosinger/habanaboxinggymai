{
 "cells": [
  {
   "cell_type": "code",
   "execution_count": null,
   "id": "ddc9049c",
   "metadata": {},
   "outputs": [],
   "source": [
    "import seaborn as sns\n",
    "\n",
    "# compute the pairwise correlations between all the columns\n",
    "corr = df.corr(numeric_only=True)\n",
    "\n",
    "# create a figure with a custom size\n",
    "fig, ax = plt.subplots(figsize=(10, 8))\n",
    "\n",
    "# create a heatmap showing the correlations between all the columns\n",
    "sns.heatmap(data=corr, annot=True, cmap='coolwarm', fmt='.2f', annot_kws={'size': 12}, cbar=False, ax=ax)\n",
    "\n",
    "# set the title of the plot\n",
    "plt.title('Correlations Between Columns', fontsize=16)\n",
    "\n",
    "# set the font size of the tick labels\n",
    "plt.tick_params(labelsize=14)\n",
    "\n",
    "# show the plot\n",
    "plt.show()\n"
   ]
  },
  {
   "cell_type": "code",
   "execution_count": null,
   "id": "2a5dd934",
   "metadata": {},
   "outputs": [],
   "source": [
    "import seaborn as sns\n",
    "\n",
    "# create a scatter plot showing the relationship between age and average purchase amount\n",
    "sns.scatterplot(x='age', y='average_purchase_amount_of_items', data=df)\n",
    "plt.xlabel('Age', fontsize=14)\n",
    "plt.ylabel('Average Purchase Amount', fontsize=14)\n",
    "plt.title('Age vs Average Purchase Amount', fontsize=16)\n",
    "# set the font size of the tick labels\n",
    "plt.tick_params(labelsize=14)\n",
    "# show the plot\n",
    "plt.show()"
   ]
  },
  {
   "cell_type": "code",
   "execution_count": null,
   "id": "30e973df",
   "metadata": {},
   "outputs": [],
   "source": [
    "import seaborn as sns\n",
    "\n",
    "# create a bar chart showing the average purchase amount for each membership type\n",
    "sns.barplot(x='membership_type', y='average_purchase_amount_of_items', data=df)\n",
    "plt.xlabel('Membership Type', fontsize=13)\n",
    "plt.ylabel('Average Purchase Amount', fontsize=13)\n",
    "plt.title('Average Purchase Amount by Membership Type', fontsize=16)\n",
    "# set the font size of the tick labels\n",
    "plt.tick_params(labelsize=14)\n",
    "# show the plot\n",
    "plt.show()"
   ]
  },
  {
   "cell_type": "code",
   "execution_count": null,
   "id": "0edc3242",
   "metadata": {},
   "outputs": [],
   "source": [
    "import seaborn as sns\n",
    "\n",
    "# create a scatter plot showing the relationship between age and minutes from gym\n",
    "sns.scatterplot(x='age', y='minutes_from_gym', data=df)\n",
    "plt.xlabel('Age', fontsize=13)\n",
    "plt.ylabel('Minutes from Gym', fontsize=13)\n",
    "plt.title('Age vs Minutes from Gym', fontsize=16)\n",
    "# set the font size of the tick labels\n",
    "plt.tick_params(labelsize=14)\n",
    "# show the plot\n",
    "plt.show()"
   ]
  },
  {
   "cell_type": "code",
   "execution_count": null,
   "id": "87553faa",
   "metadata": {},
   "outputs": [],
   "source": [
    "import seaborn as sns\n",
    "\n",
    "# create a box plot showing the distribution of average purchase amount by membership type\n",
    "sns.boxplot(x='membership_type', y='average_purchase_amount_of_items', data=df)\n",
    "plt.xlabel('Membership Type')\n",
    "plt.ylabel('Average Purchase Amount')\n",
    "plt.title('Average Purchase Amount by Membership Type')\n",
    "\n",
    "# set the x-axis tick labels to \"Monthly\", \"3 Month\", and \"Yearly\"\n",
    "plt.xticks(ticks=[0, 1, 2], labels=['Monthly', '3 Month', 'Yearly'])\n",
    "\n",
    "# show the plot\n",
    "plt.show()"
   ]
  },
  {
   "cell_type": "code",
   "execution_count": null,
   "id": "6f933fcf",
   "metadata": {},
   "outputs": [],
   "source": [
    "import seaborn as sns\n",
    "\n",
    "# create a violin plot showing the distribution of average purchase amount by gender\n",
    "sns.violinplot(x='gender', y='average_purchase_amount_of_items', data=df)\n",
    "plt.xlabel('Gender')\n",
    "plt.ylabel('Average Purchase Amount')\n",
    "plt.title('Average Purchase Amount by Gender')\n",
    "\n",
    "# show the plot\n",
    "plt.show()"
   ]
  }
 ],
 "metadata": {
  "kernelspec": {
   "display_name": "tensorflow_m1",
   "language": "python",
   "name": "tensorflow_m1"
  },
  "language_info": {
   "codemirror_mode": {
    "name": "ipython",
    "version": 3
   },
   "file_extension": ".py",
   "mimetype": "text/x-python",
   "name": "python",
   "nbconvert_exporter": "python",
   "pygments_lexer": "ipython3",
   "version": "3.9.0"
  }
 },
 "nbformat": 4,
 "nbformat_minor": 5
}
