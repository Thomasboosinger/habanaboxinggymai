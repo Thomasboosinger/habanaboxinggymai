{
 "cells": [
  {
   "cell_type": "code",
   "execution_count": 3,
   "id": "57ad814d",
   "metadata": {},
   "outputs": [
    {
     "name": "stdout",
     "output_type": "stream",
     "text": [
      "Requirement already satisfied: torch in /Users/thomas/miniforge3/envs/tensorflow_m1/lib/python3.9/site-packages (1.13.1)\n",
      "Requirement already satisfied: typing-extensions in /Users/thomas/miniforge3/envs/tensorflow_m1/lib/python3.9/site-packages (from torch) (4.3.0)\n",
      "Note: you may need to restart the kernel to use updated packages.\n"
     ]
    }
   ],
   "source": [
    "%pip install --upgrade torch\n",
    "\n",
    "\n"
   ]
  },
  {
   "cell_type": "code",
   "execution_count": 5,
   "id": "014000d6",
   "metadata": {},
   "outputs": [
    {
     "ename": "ModuleNotFoundError",
     "evalue": "No module named 'MiDaS'",
     "output_type": "error",
     "traceback": [
      "\u001b[0;31m---------------------------------------------------------------------------\u001b[0m",
      "\u001b[0;31mModuleNotFoundError\u001b[0m                       Traceback (most recent call last)",
      "Input \u001b[0;32mIn [5]\u001b[0m, in \u001b[0;36m<cell line: 6>\u001b[0;34m()\u001b[0m\n\u001b[1;32m      4\u001b[0m \u001b[38;5;28;01mimport\u001b[39;00m \u001b[38;5;21;01mmatplotlib\u001b[39;00m\u001b[38;5;21;01m.\u001b[39;00m\u001b[38;5;21;01mpyplot\u001b[39;00m \u001b[38;5;28;01mas\u001b[39;00m \u001b[38;5;21;01mplt\u001b[39;00m \n\u001b[1;32m      5\u001b[0m \u001b[38;5;66;03m# from midas.dpt_depth import DPTDepthModel\u001b[39;00m\n\u001b[0;32m----> 6\u001b[0m \u001b[38;5;28;01mfrom\u001b[39;00m \u001b[38;5;21;01mMiDaS\u001b[39;00m\u001b[38;5;21;01m.\u001b[39;00m\u001b[38;5;21;01mmidas\u001b[39;00m\u001b[38;5;21;01m.\u001b[39;00m\u001b[38;5;21;01mdpt_depth\u001b[39;00m \u001b[38;5;28;01mimport\u001b[39;00m DPTDepthModel\n\u001b[1;32m      7\u001b[0m \u001b[38;5;66;03m# from midas.midas_net import MidasNet\u001b[39;00m\n\u001b[1;32m      8\u001b[0m \u001b[38;5;28;01mfrom\u001b[39;00m \u001b[38;5;21;01mMiDaS\u001b[39;00m\u001b[38;5;21;01m.\u001b[39;00m\u001b[38;5;21;01mmidas\u001b[39;00m\u001b[38;5;21;01m.\u001b[39;00m\u001b[38;5;21;01mmidas_net\u001b[39;00m \u001b[38;5;28;01mimport\u001b[39;00m MidasNet\n",
      "\u001b[0;31mModuleNotFoundError\u001b[0m: No module named 'MiDaS'"
     ]
    }
   ],
   "source": [
    "# Import dependencies\n",
    "import cv2\n",
    "import torch\n",
    "import matplotlib.pyplot as plt \n",
    "# from midas.dpt_depth import DPTDepthModel\n",
    "from MiDaS.midas.dpt_depth import DPTDepthModel\n",
    "# from midas.midas_net import MidasNet\n",
    "from MiDaS.midas.midas_net import MidasNet\n",
    "# from midas.midas_net_custom import MidasNet_small\n",
    "from MiDaS.midas.midas_net_custom import MidasNet_small\n",
    "# from midas.transforms import Resize, NormalizeImage, PrepareForNet\n",
    "from MiDaS.midas.transforms import Resize, NormalizeImage, PrepareForNet\n",
    "\n",
    "# Download the MiDaS\n",
    "midas = torch.hub.load('intel-isl/MiDaS', 'MiDaS_small')\n",
    "midas.to('cpu')\n",
    "midas.eval()\n",
    "# Input transformation pipeline\n",
    "transforms = torch.hub.load('intel-isl/MiDaS', 'transforms')\n",
    "transform = transforms.small_transform \n",
    "\n",
    "# Hook into OpenCV\n",
    "cap = cv2.VideoCapture(0)\n",
    "while cap.isOpened(): \n",
    "    ret, frame = cap.read()\n",
    "\n",
    "    # Transform input for midas \n",
    "    img = cv2.cvtColor(frame, cv2.COLOR_BGR2RGB)\n",
    "    imgbatch = transform(img).to('cpu')\n",
    "\n",
    "    # Make a prediction\n",
    "    with torch.no_grad(): \n",
    "        prediction = midas(imgbatch)\n",
    "        prediction = torch.nn.functional.interpolate(\n",
    "            prediction.unsqueeze(1),\n",
    "            size = img.shape[:2], \n",
    "            mode='bicubic', \n",
    "            align_corners=False\n",
    "        ).squeeze()\n",
    "\n",
    "        output = prediction.cpu().numpy()\n",
    "\n",
    "        print(output)\n",
    "    plt.imshow(output)\n",
    "    cv2.imshow('CV2Frame', frame)\n",
    "    plt.pause(0.00001)\n",
    "\n",
    "    if cv2.waitKey(10) & 0xFF == ord('q'): \n",
    "        cap.release()\n",
    "        cv2.destroyAllWindows()\n",
    "\n",
    "plt.show()"
   ]
  },
  {
   "cell_type": "code",
   "execution_count": 10,
   "id": "50ebd70e",
   "metadata": {},
   "outputs": [],
   "source": [
    "import pandas as pd\n",
    "import os\n",
    "\n",
    "# list to store dataframes\n",
    "df_list = []\n",
    "\n",
    "# loop through each file in the directory\n",
    "for file in os.listdir(\"data/Payment History\"):\n",
    "    # skip files that are not csv\n",
    "    if file.endswith(\".csv\"):\n",
    "        # read csv file into a dataframe\n",
    "        df = pd.read_csv(os.path.join(\"data/Payment History\", file))\n",
    "        # add the dataframe to the list\n",
    "        df_list.append(df)\n",
    "\n",
    "# combine all the dataframes into a single dataframe\n",
    "df = pd.concat(df_list, ignore_index=True)\n",
    "\n",
    "# drop duplicates from the dataframe\n",
    "df.drop_duplicates(inplace=True)\n",
    "df[\"Fecha de pago\"] = pd.to_datetime(df[\"Fecha de pago\"], format=\"%d/%m/%Y\")\n",
    "df[\"Fecha de Inicio\"] = pd.to_datetime(df[\"Fecha de Inicio\"], format=\"%d/%m/%Y\")\n",
    "df.sort_values(\"Fecha de pago\", inplace=True)\n",
    "# save the dataframe to a csv file\n",
    "df.to_csv(\"combined_csv.csv\", index=False)\n"
   ]
  },
  {
   "cell_type": "code",
   "execution_count": 11,
   "id": "5bbdf24f",
   "metadata": {},
   "outputs": [
    {
     "name": "stdout",
     "output_type": "stream",
     "text": [
      "<class 'pandas.core.frame.DataFrame'>\n",
      "RangeIndex: 3216 entries, 0 to 3215\n",
      "Data columns (total 10 columns):\n",
      " #   Column           Non-Null Count  Dtype \n",
      "---  ------           --------------  ----- \n",
      " 0   N°               3216 non-null   int64 \n",
      " 1   Cliente:         3216 non-null   object\n",
      " 2   Email:           3216 non-null   object\n",
      " 3   Estado:          3216 non-null   object\n",
      " 4   Plan             3216 non-null   object\n",
      " 5   Fecha de pago    3216 non-null   object\n",
      " 6   Fecha de Inicio  3216 non-null   object\n",
      " 7   Tipo             3216 non-null   object\n",
      " 8   Monto            3216 non-null   object\n",
      " 9   Vendedor/a       3216 non-null   object\n",
      "dtypes: int64(1), object(9)\n",
      "memory usage: 251.4+ KB\n"
     ]
    }
   ],
   "source": [
    "df = pd.read_csv('combined_csv.csv')\n",
    "df.info()"
   ]
  },
  {
   "cell_type": "code",
   "execution_count": 17,
   "id": "671ee17d",
   "metadata": {},
   "outputs": [
    {
     "ename": "FileNotFoundError",
     "evalue": "[Errno 2] No such file or directory: 'BoxMagic - 2023-01-04T205100.611.csv'",
     "output_type": "error",
     "traceback": [
      "\u001b[0;31m---------------------------------------------------------------------------\u001b[0m",
      "\u001b[0;31mFileNotFoundError\u001b[0m                         Traceback (most recent call last)",
      "Input \u001b[0;32mIn [17]\u001b[0m, in \u001b[0;36m<cell line: 4>\u001b[0;34m()\u001b[0m\n\u001b[1;32m      4\u001b[0m \u001b[38;5;28;01mfor\u001b[39;00m file \u001b[38;5;129;01min\u001b[39;00m os\u001b[38;5;241m.\u001b[39mlistdir(\u001b[38;5;124m\"\u001b[39m\u001b[38;5;124mdata/Payment History\u001b[39m\u001b[38;5;124m\"\u001b[39m):\n\u001b[1;32m      5\u001b[0m     \u001b[38;5;66;03m# skip files that are not csv\u001b[39;00m\n\u001b[1;32m      6\u001b[0m     \u001b[38;5;28;01mif\u001b[39;00m file\u001b[38;5;241m.\u001b[39mendswith(\u001b[38;5;124m\"\u001b[39m\u001b[38;5;124m.csv\u001b[39m\u001b[38;5;124m\"\u001b[39m):\n\u001b[0;32m----> 7\u001b[0m         permissions \u001b[38;5;241m=\u001b[39m \u001b[43mos\u001b[49m\u001b[38;5;241;43m.\u001b[39;49m\u001b[43mstat\u001b[49m\u001b[43m(\u001b[49m\u001b[43mfile\u001b[49m\u001b[43m)\u001b[49m\u001b[38;5;241m.\u001b[39mst_mode\n\u001b[1;32m      8\u001b[0m         \u001b[38;5;28mprint\u001b[39m(stat\u001b[38;5;241m.\u001b[39mfilemode(permissions))\n",
      "\u001b[0;31mFileNotFoundError\u001b[0m: [Errno 2] No such file or directory: 'BoxMagic - 2023-01-04T205100.611.csv'"
     ]
    }
   ],
   "source": [
    "import os\n",
    "import stat\n",
    "# loop through each file in the directory\n",
    "for file in os.listdir(\"data/Payment History\"):\n",
    "    # skip files that are not csv\n",
    "    if file.endswith(\".csv\"):\n",
    "        permissions = os.stat(file).st_mode\n",
    "        print(stat.filemode(permissions))\n",
    "\n",
    "\n",
    "\n"
   ]
  },
  {
   "cell_type": "code",
   "execution_count": 1,
   "id": "d8122dd9",
   "metadata": {},
   "outputs": [],
   "source": [
    "import os\n",
    "folder =  \"data/Payment History\"\n",
    "# Change to the directory containing the files\n",
    "os.chdir(folder)\n",
    "\n",
    "# Iterate over the files in the directory\n",
    "for index, file in enumerate(os.listdir()):\n",
    "    # Split the file name and extension\n",
    "    name, extension = os.path.splitext(file)\n",
    "\n",
    "    # Generate the new file name\n",
    "    new_name = f\"{index}{extension}\"\n",
    "\n",
    "    # Rename the file\n",
    "    os.rename(file, new_name)\n"
   ]
  },
  {
   "cell_type": "code",
   "execution_count": null,
   "id": "3d640567",
   "metadata": {},
   "outputs": [],
   "source": []
  }
 ],
 "metadata": {
  "kernelspec": {
   "display_name": "tensorflow_m1",
   "language": "python",
   "name": "tensorflow_m1"
  },
  "language_info": {
   "codemirror_mode": {
    "name": "ipython",
    "version": 3
   },
   "file_extension": ".py",
   "mimetype": "text/x-python",
   "name": "python",
   "nbconvert_exporter": "python",
   "pygments_lexer": "ipython3",
   "version": "3.9.0"
  }
 },
 "nbformat": 4,
 "nbformat_minor": 5
}
